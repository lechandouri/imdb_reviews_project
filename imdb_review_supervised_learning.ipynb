{
 "cells": [
  {
   "cell_type": "code",
   "execution_count": 1,
   "metadata": {
    "colab": {
     "base_uri": "https://localhost:8080/"
    },
    "id": "Y5wqOZPlmCvN",
    "outputId": "57481250-c3c6-4493-aef1-ec55c46a1cb5"
   },
   "outputs": [],
   "source": [
    "import pandas as pd\n",
    "import numpy as np\n",
    "import matplotlib.pyplot as plt\n",
    "import seaborn as sn\n",
    "import pprint\n",
    "\n",
    "from sklearn.model_selection import train_test_split\n",
    "from sklearn.feature_extraction.text import TfidfTransformer, TfidfVectorizer\n",
    "from sklearn.pipeline import Pipeline\n",
    "from sklearn.model_selection import GridSearchCV\n",
    "from sklearn.ensemble import RandomForestClassifier\n",
    "from sklearn.linear_model import LogisticRegression\n",
    "from sklearn.svm import SVC\n",
    "from sklearn.metrics import accuracy_score, roc_auc_score, auc, confusion_matrix, roc_curve, classification_report"
   ]
  },
  {
   "cell_type": "markdown",
   "metadata": {
    "id": "l6JPCujP4AHu"
   },
   "source": [
    "# Supervised Learning"
   ]
  },
  {
   "cell_type": "markdown",
   "metadata": {},
   "source": [
    "## Dataset for supervised learning"
   ]
  },
  {
   "cell_type": "code",
   "execution_count": 2,
   "metadata": {
    "id": "GTSUBP3Q4AHu"
   },
   "outputs": [],
   "source": [
    "dataset_sup = pd.read_csv('imdb_sup_clean.csv')"
   ]
  },
  {
   "cell_type": "code",
   "execution_count": 3,
   "metadata": {},
   "outputs": [
    {
     "data": {
      "text/html": [
       "<div>\n",
       "<style scoped>\n",
       "    .dataframe tbody tr th:only-of-type {\n",
       "        vertical-align: middle;\n",
       "    }\n",
       "\n",
       "    .dataframe tbody tr th {\n",
       "        vertical-align: top;\n",
       "    }\n",
       "\n",
       "    .dataframe thead th {\n",
       "        text-align: right;\n",
       "    }\n",
       "</style>\n",
       "<table border=\"1\" class=\"dataframe\">\n",
       "  <thead>\n",
       "    <tr style=\"text-align: right;\">\n",
       "      <th></th>\n",
       "      <th>review</th>\n",
       "      <th>label</th>\n",
       "      <th>clean_review</th>\n",
       "      <th>join_clean_review</th>\n",
       "    </tr>\n",
       "  </thead>\n",
       "  <tbody>\n",
       "    <tr>\n",
       "      <th>0</th>\n",
       "      <td>Not even the Beatles could write songs everyon...</td>\n",
       "      <td>0</td>\n",
       "      <td>['even', 'beatl', 'could', 'write', 'song', 'e...</td>\n",
       "      <td>even beatl could write song everyon like altho...</td>\n",
       "    </tr>\n",
       "    <tr>\n",
       "      <th>1</th>\n",
       "      <td>This German horror film has to be one of the w...</td>\n",
       "      <td>0</td>\n",
       "      <td>['german', 'horror', 'film', 'one', 'weirdest'...</td>\n",
       "      <td>german horror film one weirdest seen awar conn...</td>\n",
       "    </tr>\n",
       "    <tr>\n",
       "      <th>2</th>\n",
       "      <td>Cage plays a drunk and gets high critically pr...</td>\n",
       "      <td>0</td>\n",
       "      <td>['cage', 'play', 'drunk', 'get', 'high', 'crit...</td>\n",
       "      <td>cage play drunk get high critic prais elizabet...</td>\n",
       "    </tr>\n",
       "    <tr>\n",
       "      <th>3</th>\n",
       "      <td>Here's a decidedly average Italian post apocal...</td>\n",
       "      <td>0</td>\n",
       "      <td>['decid', 'averag', 'italian', 'post', 'apocal...</td>\n",
       "      <td>decid averag italian post apocalypt take hunt ...</td>\n",
       "    </tr>\n",
       "    <tr>\n",
       "      <th>4</th>\n",
       "      <td>I'm a huge fan of both Emily Watson (Breaking ...</td>\n",
       "      <td>0</td>\n",
       "      <td>['huge', 'fan', 'emili', 'watson', 'break', 'w...</td>\n",
       "      <td>huge fan emili watson break wave tom wilkinson...</td>\n",
       "    </tr>\n",
       "    <tr>\n",
       "      <th>...</th>\n",
       "      <td>...</td>\n",
       "      <td>...</td>\n",
       "      <td>...</td>\n",
       "      <td>...</td>\n",
       "    </tr>\n",
       "    <tr>\n",
       "      <th>11225</th>\n",
       "      <td>I saw this movie last night after waiting ages...</td>\n",
       "      <td>1</td>\n",
       "      <td>['saw', 'movi', 'last', 'night', 'wait', 'age'...</td>\n",
       "      <td>saw movi last night wait age age releas canada...</td>\n",
       "    </tr>\n",
       "    <tr>\n",
       "      <th>11226</th>\n",
       "      <td>I was very moved by the story and because I am...</td>\n",
       "      <td>1</td>\n",
       "      <td>['move', 'stori', 'go', 'someth', 'similar', '...</td>\n",
       "      <td>move stori go someth similar parent realli con...</td>\n",
       "    </tr>\n",
       "    <tr>\n",
       "      <th>11227</th>\n",
       "      <td>This is a really interesting movie. It is an a...</td>\n",
       "      <td>1</td>\n",
       "      <td>['realli', 'interest', 'movi', 'action', 'movi...</td>\n",
       "      <td>realli interest movi action movi comedi mix fo...</td>\n",
       "    </tr>\n",
       "    <tr>\n",
       "      <th>11228</th>\n",
       "      <td>This is the kind of film you want to see with ...</td>\n",
       "      <td>1</td>\n",
       "      <td>['kind', 'film', 'want', 'see', 'glass', 'wine...</td>\n",
       "      <td>kind film want see glass wine fire feet requir...</td>\n",
       "    </tr>\n",
       "    <tr>\n",
       "      <th>11229</th>\n",
       "      <td>The plot had some wretched, unbelievable twist...</td>\n",
       "      <td>1</td>\n",
       "      <td>['plot', 'wretch', 'unbeliev', 'twist', 'howev...</td>\n",
       "      <td>plot wretch unbeliev twist howev chemistri mel...</td>\n",
       "    </tr>\n",
       "  </tbody>\n",
       "</table>\n",
       "<p>11230 rows × 4 columns</p>\n",
       "</div>"
      ],
      "text/plain": [
       "                                                  review  label  \\\n",
       "0      Not even the Beatles could write songs everyon...      0   \n",
       "1      This German horror film has to be one of the w...      0   \n",
       "2      Cage plays a drunk and gets high critically pr...      0   \n",
       "3      Here's a decidedly average Italian post apocal...      0   \n",
       "4      I'm a huge fan of both Emily Watson (Breaking ...      0   \n",
       "...                                                  ...    ...   \n",
       "11225  I saw this movie last night after waiting ages...      1   \n",
       "11226  I was very moved by the story and because I am...      1   \n",
       "11227  This is a really interesting movie. It is an a...      1   \n",
       "11228  This is the kind of film you want to see with ...      1   \n",
       "11229  The plot had some wretched, unbelievable twist...      1   \n",
       "\n",
       "                                            clean_review  \\\n",
       "0      ['even', 'beatl', 'could', 'write', 'song', 'e...   \n",
       "1      ['german', 'horror', 'film', 'one', 'weirdest'...   \n",
       "2      ['cage', 'play', 'drunk', 'get', 'high', 'crit...   \n",
       "3      ['decid', 'averag', 'italian', 'post', 'apocal...   \n",
       "4      ['huge', 'fan', 'emili', 'watson', 'break', 'w...   \n",
       "...                                                  ...   \n",
       "11225  ['saw', 'movi', 'last', 'night', 'wait', 'age'...   \n",
       "11226  ['move', 'stori', 'go', 'someth', 'similar', '...   \n",
       "11227  ['realli', 'interest', 'movi', 'action', 'movi...   \n",
       "11228  ['kind', 'film', 'want', 'see', 'glass', 'wine...   \n",
       "11229  ['plot', 'wretch', 'unbeliev', 'twist', 'howev...   \n",
       "\n",
       "                                       join_clean_review  \n",
       "0      even beatl could write song everyon like altho...  \n",
       "1      german horror film one weirdest seen awar conn...  \n",
       "2      cage play drunk get high critic prais elizabet...  \n",
       "3      decid averag italian post apocalypt take hunt ...  \n",
       "4      huge fan emili watson break wave tom wilkinson...  \n",
       "...                                                  ...  \n",
       "11225  saw movi last night wait age age releas canada...  \n",
       "11226  move stori go someth similar parent realli con...  \n",
       "11227  realli interest movi action movi comedi mix fo...  \n",
       "11228  kind film want see glass wine fire feet requir...  \n",
       "11229  plot wretch unbeliev twist howev chemistri mel...  \n",
       "\n",
       "[11230 rows x 4 columns]"
      ]
     },
     "execution_count": 3,
     "metadata": {},
     "output_type": "execute_result"
    }
   ],
   "source": [
    "dataset_sup"
   ]
  },
  {
   "cell_type": "markdown",
   "metadata": {
    "id": "FZThegr948Kg"
   },
   "source": [
    "If the label is 0, then the review is negative. On the other hand, if the label is 1, the review is positive. "
   ]
  },
  {
   "cell_type": "code",
   "execution_count": 4,
   "metadata": {},
   "outputs": [
    {
     "data": {
      "text/plain": [
       "count    11230.000000\n",
       "mean      1071.204541\n",
       "std        816.106214\n",
       "min         37.000000\n",
       "25%        568.000000\n",
       "50%        790.000000\n",
       "75%       1302.000000\n",
       "max      10721.000000\n",
       "Name: clean_review, dtype: float64"
      ]
     },
     "execution_count": 4,
     "metadata": {},
     "output_type": "execute_result"
    }
   ],
   "source": [
    "dataset_sup['clean_review'].apply(lambda x : len(x)).describe()"
   ]
  },
  {
   "cell_type": "markdown",
   "metadata": {},
   "source": [
    "On average, we will have around 1070 features. So we can choose to vectorise with the top 1500 features."
   ]
  },
  {
   "cell_type": "markdown",
   "metadata": {},
   "source": [
    "## Train/Test split"
   ]
  },
  {
   "cell_type": "code",
   "execution_count": 5,
   "metadata": {},
   "outputs": [],
   "source": [
    "X = dataset_sup['join_clean_review']\n",
    "Y = dataset_sup['label']\n",
    "X_train, X_test, Y_train, Y_test = train_test_split(X, Y, test_size=0.2, random_state=1998)"
   ]
  },
  {
   "cell_type": "markdown",
   "metadata": {},
   "source": [
    "## Defining the pipelines"
   ]
  },
  {
   "cell_type": "markdown",
   "metadata": {},
   "source": [
    "We chose to explore three different regression models: RandomForest, Logistic Regression, and SVC"
   ]
  },
  {
   "cell_type": "code",
   "execution_count": 6,
   "metadata": {},
   "outputs": [],
   "source": [
    "pipelines = {\n",
    "    'rf_pipe': Pipeline([\n",
    "    ('vectorizer', TfidfVectorizer(max_features=1500)),\n",
    "    ('rf', RandomForestClassifier(n_estimators=400, random_state=42)),\n",
    "    ]),\n",
    "\n",
    "    'log_reg_pipe': Pipeline([\n",
    "    ('vectorizer', TfidfVectorizer(max_features=1500)),\n",
    "    ('log_reg', LogisticRegression())\n",
    "    ]),\n",
    "\n",
    "    'svc_pipe': Pipeline([\n",
    "    ('vectorizer', TfidfVectorizer(max_features=1500)),\n",
    "    ('svc', SVC())\n",
    "    ]),\n",
    "}"
   ]
  },
  {
   "cell_type": "markdown",
   "metadata": {},
   "source": [
    "## Fitting the models"
   ]
  },
  {
   "cell_type": "code",
   "execution_count": 7,
   "metadata": {},
   "outputs": [],
   "source": [
    "pipelines['rf_pipe'].fit(X_train, Y_train)\n",
    "Y_pred_rf = pipelines['rf_pipe'].predict(X_test)\n",
    "\n",
    "pipelines['log_reg_pipe'].fit(X_train, Y_train)\n",
    "Y_pred_log_reg = pipelines['log_reg_pipe'].predict(X_test)\n",
    "\n",
    "pipelines['svc_pipe'].fit(X_train, Y_train)\n",
    "Y_pred_svc = pipelines['svc_pipe'].predict(X_test)"
   ]
  },
  {
   "cell_type": "code",
   "execution_count": 8,
   "metadata": {},
   "outputs": [],
   "source": [
    "target_names = ['neg', 'pos']"
   ]
  },
  {
   "cell_type": "code",
   "execution_count": 9,
   "metadata": {},
   "outputs": [
    {
     "name": "stdout",
     "output_type": "stream",
     "text": [
      "classification report for random forest\n",
      "              precision    recall  f1-score   support\n",
      "\n",
      "         neg       0.85      0.83      0.84      1132\n",
      "         pos       0.83      0.85      0.84      1114\n",
      "\n",
      "    accuracy                           0.84      2246\n",
      "   macro avg       0.84      0.84      0.84      2246\n",
      "weighted avg       0.84      0.84      0.84      2246\n",
      "\n"
     ]
    }
   ],
   "source": [
    "print('classification report for random forest')\n",
    "print(classification_report(Y_test, Y_pred_rf, target_names=target_names))"
   ]
  },
  {
   "cell_type": "code",
   "execution_count": 10,
   "metadata": {},
   "outputs": [
    {
     "name": "stdout",
     "output_type": "stream",
     "text": [
      "classification report for logistic regression\n",
      "              precision    recall  f1-score   support\n",
      "\n",
      "         neg       0.89      0.83      0.86      1132\n",
      "         pos       0.84      0.89      0.86      1114\n",
      "\n",
      "    accuracy                           0.86      2246\n",
      "   macro avg       0.86      0.86      0.86      2246\n",
      "weighted avg       0.86      0.86      0.86      2246\n",
      "\n"
     ]
    }
   ],
   "source": [
    "print('classification report for logistic regression')\n",
    "print(classification_report(Y_test, Y_pred_log_reg, target_names=target_names))"
   ]
  },
  {
   "cell_type": "code",
   "execution_count": 11,
   "metadata": {},
   "outputs": [
    {
     "name": "stdout",
     "output_type": "stream",
     "text": [
      "classification report for SVC\n",
      "              precision    recall  f1-score   support\n",
      "\n",
      "         neg       0.88      0.82      0.85      1132\n",
      "         pos       0.83      0.89      0.86      1114\n",
      "\n",
      "    accuracy                           0.86      2246\n",
      "   macro avg       0.86      0.86      0.86      2246\n",
      "weighted avg       0.86      0.86      0.86      2246\n",
      "\n"
     ]
    }
   ],
   "source": [
    "print('classification report for SVC')\n",
    "print(classification_report(Y_test, Y_pred_svc, target_names=target_names))"
   ]
  },
  {
   "cell_type": "markdown",
   "metadata": {},
   "source": [
    "## Tuning the hyperparameters"
   ]
  },
  {
   "cell_type": "code",
   "execution_count": 12,
   "metadata": {},
   "outputs": [],
   "source": [
    "parameters = {\n",
    "    'rf_pipe': {'rf__n_estimators': [100, 400, 800],\n",
    "                'rf__min_samples_split': [2, 6, 12],\n",
    "                'rf__max_features': ['auto',5 ,10, 20]},\n",
    "    'log_reg_pipe': {'log_reg__penalty': ['l2', 'none'],\n",
    "                     'log_reg__max_iter': [100, 500]},\n",
    "    \n",
    "    'svc_pipe': {'svc__kernel' : ['poly', 'rbf'],\n",
    "                 'svc__degree': [2, 3, 4],\n",
    "                 'svc__probability': [True]}\n",
    "}"
   ]
  },
  {
   "cell_type": "code",
   "execution_count": 13,
   "metadata": {},
   "outputs": [],
   "source": [
    "best_parameters = {}\n",
    "best_estimators = {}\n",
    "best_scores = {}\n",
    "cv_results = {}"
   ]
  },
  {
   "cell_type": "code",
   "execution_count": 14,
   "metadata": {},
   "outputs": [
    {
     "name": "stderr",
     "output_type": "stream",
     "text": [
      "/opt/anaconda3/lib/python3.7/site-packages/sklearn/linear_model/_logistic.py:765: ConvergenceWarning: lbfgs failed to converge (status=1):\n",
      "STOP: TOTAL NO. of ITERATIONS REACHED LIMIT.\n",
      "\n",
      "Increase the number of iterations (max_iter) or scale the data as shown in:\n",
      "    https://scikit-learn.org/stable/modules/preprocessing.html\n",
      "Please also refer to the documentation for alternative solver options:\n",
      "    https://scikit-learn.org/stable/modules/linear_model.html#logistic-regression\n",
      "  extra_warning_msg=_LOGISTIC_SOLVER_CONVERGENCE_MSG)\n",
      "/opt/anaconda3/lib/python3.7/site-packages/sklearn/linear_model/_logistic.py:765: ConvergenceWarning: lbfgs failed to converge (status=1):\n",
      "STOP: TOTAL NO. of ITERATIONS REACHED LIMIT.\n",
      "\n",
      "Increase the number of iterations (max_iter) or scale the data as shown in:\n",
      "    https://scikit-learn.org/stable/modules/preprocessing.html\n",
      "Please also refer to the documentation for alternative solver options:\n",
      "    https://scikit-learn.org/stable/modules/linear_model.html#logistic-regression\n",
      "  extra_warning_msg=_LOGISTIC_SOLVER_CONVERGENCE_MSG)\n",
      "/opt/anaconda3/lib/python3.7/site-packages/sklearn/linear_model/_logistic.py:765: ConvergenceWarning: lbfgs failed to converge (status=1):\n",
      "STOP: TOTAL NO. of ITERATIONS REACHED LIMIT.\n",
      "\n",
      "Increase the number of iterations (max_iter) or scale the data as shown in:\n",
      "    https://scikit-learn.org/stable/modules/preprocessing.html\n",
      "Please also refer to the documentation for alternative solver options:\n",
      "    https://scikit-learn.org/stable/modules/linear_model.html#logistic-regression\n",
      "  extra_warning_msg=_LOGISTIC_SOLVER_CONVERGENCE_MSG)\n",
      "/opt/anaconda3/lib/python3.7/site-packages/sklearn/linear_model/_logistic.py:765: ConvergenceWarning: lbfgs failed to converge (status=1):\n",
      "STOP: TOTAL NO. of ITERATIONS REACHED LIMIT.\n",
      "\n",
      "Increase the number of iterations (max_iter) or scale the data as shown in:\n",
      "    https://scikit-learn.org/stable/modules/preprocessing.html\n",
      "Please also refer to the documentation for alternative solver options:\n",
      "    https://scikit-learn.org/stable/modules/linear_model.html#logistic-regression\n",
      "  extra_warning_msg=_LOGISTIC_SOLVER_CONVERGENCE_MSG)\n",
      "/opt/anaconda3/lib/python3.7/site-packages/sklearn/linear_model/_logistic.py:765: ConvergenceWarning: lbfgs failed to converge (status=1):\n",
      "STOP: TOTAL NO. of ITERATIONS REACHED LIMIT.\n",
      "\n",
      "Increase the number of iterations (max_iter) or scale the data as shown in:\n",
      "    https://scikit-learn.org/stable/modules/preprocessing.html\n",
      "Please also refer to the documentation for alternative solver options:\n",
      "    https://scikit-learn.org/stable/modules/linear_model.html#logistic-regression\n",
      "  extra_warning_msg=_LOGISTIC_SOLVER_CONVERGENCE_MSG)\n",
      "/opt/anaconda3/lib/python3.7/site-packages/sklearn/linear_model/_logistic.py:765: ConvergenceWarning: lbfgs failed to converge (status=1):\n",
      "STOP: TOTAL NO. of ITERATIONS REACHED LIMIT.\n",
      "\n",
      "Increase the number of iterations (max_iter) or scale the data as shown in:\n",
      "    https://scikit-learn.org/stable/modules/preprocessing.html\n",
      "Please also refer to the documentation for alternative solver options:\n",
      "    https://scikit-learn.org/stable/modules/linear_model.html#logistic-regression\n",
      "  extra_warning_msg=_LOGISTIC_SOLVER_CONVERGENCE_MSG)\n",
      "/opt/anaconda3/lib/python3.7/site-packages/sklearn/linear_model/_logistic.py:765: ConvergenceWarning: lbfgs failed to converge (status=1):\n",
      "STOP: TOTAL NO. of ITERATIONS REACHED LIMIT.\n",
      "\n",
      "Increase the number of iterations (max_iter) or scale the data as shown in:\n",
      "    https://scikit-learn.org/stable/modules/preprocessing.html\n",
      "Please also refer to the documentation for alternative solver options:\n",
      "    https://scikit-learn.org/stable/modules/linear_model.html#logistic-regression\n",
      "  extra_warning_msg=_LOGISTIC_SOLVER_CONVERGENCE_MSG)\n",
      "/opt/anaconda3/lib/python3.7/site-packages/sklearn/linear_model/_logistic.py:765: ConvergenceWarning: lbfgs failed to converge (status=1):\n",
      "STOP: TOTAL NO. of ITERATIONS REACHED LIMIT.\n",
      "\n",
      "Increase the number of iterations (max_iter) or scale the data as shown in:\n",
      "    https://scikit-learn.org/stable/modules/preprocessing.html\n",
      "Please also refer to the documentation for alternative solver options:\n",
      "    https://scikit-learn.org/stable/modules/linear_model.html#logistic-regression\n",
      "  extra_warning_msg=_LOGISTIC_SOLVER_CONVERGENCE_MSG)\n",
      "/opt/anaconda3/lib/python3.7/site-packages/sklearn/linear_model/_logistic.py:765: ConvergenceWarning: lbfgs failed to converge (status=1):\n",
      "STOP: TOTAL NO. of ITERATIONS REACHED LIMIT.\n",
      "\n",
      "Increase the number of iterations (max_iter) or scale the data as shown in:\n",
      "    https://scikit-learn.org/stable/modules/preprocessing.html\n",
      "Please also refer to the documentation for alternative solver options:\n",
      "    https://scikit-learn.org/stable/modules/linear_model.html#logistic-regression\n",
      "  extra_warning_msg=_LOGISTIC_SOLVER_CONVERGENCE_MSG)\n"
     ]
    }
   ],
   "source": [
    "for model_name, pipe in pipelines.items():\n",
    "    grid = GridSearchCV(pipe, param_grid=parameters[model_name], scoring='roc_auc')\n",
    "    grid.fit(X_train, Y_train)\n",
    "    best_parameters[model_name] = grid.best_params_\n",
    "    best_estimators[model_name] = grid.best_estimator_\n",
    "    best_scores[model_name] = grid.best_score_\n",
    "    cv_results[model_name] = grid.cv_results_"
   ]
  },
  {
   "cell_type": "code",
   "execution_count": 15,
   "metadata": {},
   "outputs": [
    {
     "data": {
      "text/plain": [
       "{'rf_pipe': {'rf__max_features': 5,\n",
       "  'rf__min_samples_split': 12,\n",
       "  'rf__n_estimators': 800},\n",
       " 'log_reg_pipe': {'log_reg__max_iter': 100, 'log_reg__penalty': 'l2'},\n",
       " 'svc_pipe': {'svc__degree': 2, 'svc__kernel': 'rbf'}}"
      ]
     },
     "execution_count": 15,
     "metadata": {},
     "output_type": "execute_result"
    }
   ],
   "source": [
    "best_parameters"
   ]
  },
  {
   "cell_type": "code",
   "execution_count": 16,
   "metadata": {},
   "outputs": [
    {
     "data": {
      "text/plain": [
       "{'rf_pipe': Pipeline(steps=[('vectorizer', TfidfVectorizer(max_features=1500)),\n",
       "                 ('rf',\n",
       "                  RandomForestClassifier(max_features=5, min_samples_split=12,\n",
       "                                         n_estimators=800, random_state=42))]),\n",
       " 'log_reg_pipe': Pipeline(steps=[('vectorizer', TfidfVectorizer(max_features=1500)),\n",
       "                 ('log_reg', LogisticRegression())]),\n",
       " 'svc_pipe': Pipeline(steps=[('vectorizer', TfidfVectorizer(max_features=1500)),\n",
       "                 ('svc', SVC(degree=2))])}"
      ]
     },
     "execution_count": 16,
     "metadata": {},
     "output_type": "execute_result"
    }
   ],
   "source": [
    "best_estimators"
   ]
  },
  {
   "cell_type": "code",
   "execution_count": 17,
   "metadata": {},
   "outputs": [
    {
     "data": {
      "text/plain": [
       "{'rf_pipe': 0.9307895270422119,\n",
       " 'log_reg_pipe': 0.9372300152522246,\n",
       " 'svc_pipe': 0.937411731686343}"
      ]
     },
     "execution_count": 17,
     "metadata": {},
     "output_type": "execute_result"
    }
   ],
   "source": [
    "best_scores"
   ]
  },
  {
   "cell_type": "code",
   "execution_count": 18,
   "metadata": {},
   "outputs": [
    {
     "data": {
      "text/html": [
       "<div>\n",
       "<style scoped>\n",
       "    .dataframe tbody tr th:only-of-type {\n",
       "        vertical-align: middle;\n",
       "    }\n",
       "\n",
       "    .dataframe tbody tr th {\n",
       "        vertical-align: top;\n",
       "    }\n",
       "\n",
       "    .dataframe thead th {\n",
       "        text-align: right;\n",
       "    }\n",
       "</style>\n",
       "<table border=\"1\" class=\"dataframe\">\n",
       "  <thead>\n",
       "    <tr style=\"text-align: right;\">\n",
       "      <th></th>\n",
       "      <th>rf_pipe</th>\n",
       "      <th>log_reg_pipe</th>\n",
       "      <th>svc_pipe</th>\n",
       "    </tr>\n",
       "  </thead>\n",
       "  <tbody>\n",
       "    <tr>\n",
       "      <th>mean_fit_time</th>\n",
       "      <td>[6.867249536514282, 27.346450996398925, 53.870...</td>\n",
       "      <td>[0.6951305389404296, 0.8488523006439209, 0.812...</td>\n",
       "      <td>[26.321758604049684, 20.40815052986145, 29.514...</td>\n",
       "    </tr>\n",
       "    <tr>\n",
       "      <th>std_fit_time</th>\n",
       "      <td>[0.0343925051308058, 0.2131486699008946, 0.269...</td>\n",
       "      <td>[0.01656421687016967, 0.08516371535558383, 0.0...</td>\n",
       "      <td>[0.24268422978636783, 1.039839580904577, 1.005...</td>\n",
       "    </tr>\n",
       "    <tr>\n",
       "      <th>mean_score_time</th>\n",
       "      <td>[0.1961371898651123, 0.37720041275024413, 0.60...</td>\n",
       "      <td>[0.14488043785095214, 0.15645689964294435, 0.1...</td>\n",
       "      <td>[6.344286584854126, 5.5344651222229, 8.6963338...</td>\n",
       "    </tr>\n",
       "    <tr>\n",
       "      <th>std_score_time</th>\n",
       "      <td>[0.0037508627577065847, 0.005665001453850483, ...</td>\n",
       "      <td>[0.001758113711773036, 0.015989767698749824, 0...</td>\n",
       "      <td>[0.039412074730831935, 0.03441742331537648, 1....</td>\n",
       "    </tr>\n",
       "    <tr>\n",
       "      <th>param_rf__max_features</th>\n",
       "      <td>[auto, auto, auto, auto, auto, auto, auto, aut...</td>\n",
       "      <td>NaN</td>\n",
       "      <td>NaN</td>\n",
       "    </tr>\n",
       "    <tr>\n",
       "      <th>param_rf__min_samples_split</th>\n",
       "      <td>[2, 2, 2, 6, 6, 6, 12, 12, 12, 2, 2, 2, 6, 6, ...</td>\n",
       "      <td>NaN</td>\n",
       "      <td>NaN</td>\n",
       "    </tr>\n",
       "    <tr>\n",
       "      <th>param_rf__n_estimators</th>\n",
       "      <td>[100, 400, 800, 100, 400, 800, 100, 400, 800, ...</td>\n",
       "      <td>NaN</td>\n",
       "      <td>NaN</td>\n",
       "    </tr>\n",
       "    <tr>\n",
       "      <th>params</th>\n",
       "      <td>[{'rf__max_features': 'auto', 'rf__min_samples...</td>\n",
       "      <td>[{'log_reg__max_iter': 100, 'log_reg__penalty'...</td>\n",
       "      <td>[{'svc__degree': 2, 'svc__kernel': 'poly'}, {'...</td>\n",
       "    </tr>\n",
       "    <tr>\n",
       "      <th>split0_test_score</th>\n",
       "      <td>[0.9180351124987609, 0.9236619090098126, 0.924...</td>\n",
       "      <td>[0.9397524531668152, 0.8940430171473881, 0.939...</td>\n",
       "      <td>[0.9367231638418079, 0.9400460898007731, 0.921...</td>\n",
       "    </tr>\n",
       "    <tr>\n",
       "      <th>split1_test_score</th>\n",
       "      <td>[0.9192908117752007, 0.9267475716126474, 0.928...</td>\n",
       "      <td>[0.9450874715036178, 0.8977797601348002, 0.945...</td>\n",
       "      <td>[0.945327832292596, 0.9445435622955693, 0.9368...</td>\n",
       "    </tr>\n",
       "    <tr>\n",
       "      <th>split2_test_score</th>\n",
       "      <td>[0.9064704526814232, 0.9124687479093002, 0.914...</td>\n",
       "      <td>[0.9375267919310756, 0.8944577560936929, 0.937...</td>\n",
       "      <td>[0.9345025559192514, 0.9378984718997554, 0.919...</td>\n",
       "    </tr>\n",
       "    <tr>\n",
       "      <th>split3_test_score</th>\n",
       "      <td>[0.9112830888092117, 0.9186231487240226, 0.920...</td>\n",
       "      <td>[0.9392129800556529, 0.8867528303429616, 0.939...</td>\n",
       "      <td>[0.9408843009814829, 0.9406972220639143, 0.925...</td>\n",
       "    </tr>\n",
       "    <tr>\n",
       "      <th>split4_test_score</th>\n",
       "      <td>[0.8998790675175352, 0.9085824852555395, 0.910...</td>\n",
       "      <td>[0.9245703796039617, 0.8817218304836678, 0.924...</td>\n",
       "      <td>[0.922262119605326, 0.9238733123717031, 0.9080...</td>\n",
       "    </tr>\n",
       "    <tr>\n",
       "      <th>mean_test_score</th>\n",
       "      <td>[0.9109917066564263, 0.9180167725022645, 0.919...</td>\n",
       "      <td>[0.9372300152522246, 0.8909510388405021, 0.937...</td>\n",
       "      <td>[0.9359399945280927, 0.937411731686343, 0.9221...</td>\n",
       "    </tr>\n",
       "    <tr>\n",
       "      <th>std_test_score</th>\n",
       "      <td>[0.007245717374131524, 0.006756455641161025, 0...</td>\n",
       "      <td>[0.006817461585238842, 0.005853068797510609, 0...</td>\n",
       "      <td>[0.007776136708271697, 0.007101028251024523, 0...</td>\n",
       "    </tr>\n",
       "    <tr>\n",
       "      <th>rank_test_score</th>\n",
       "      <td>[35, 23, 19, 31, 24, 20, 33, 25, 22, 36, 9, 4,...</td>\n",
       "      <td>[1, 3, 1, 4]</td>\n",
       "      <td>[4, 1, 5, 1, 6, 1]</td>\n",
       "    </tr>\n",
       "    <tr>\n",
       "      <th>param_log_reg__max_iter</th>\n",
       "      <td>NaN</td>\n",
       "      <td>[100, 100, 500, 500]</td>\n",
       "      <td>NaN</td>\n",
       "    </tr>\n",
       "    <tr>\n",
       "      <th>param_log_reg__penalty</th>\n",
       "      <td>NaN</td>\n",
       "      <td>[l2, none, l2, none]</td>\n",
       "      <td>NaN</td>\n",
       "    </tr>\n",
       "    <tr>\n",
       "      <th>param_svc__degree</th>\n",
       "      <td>NaN</td>\n",
       "      <td>NaN</td>\n",
       "      <td>[2, 2, 3, 3, 4, 4]</td>\n",
       "    </tr>\n",
       "    <tr>\n",
       "      <th>param_svc__kernel</th>\n",
       "      <td>NaN</td>\n",
       "      <td>NaN</td>\n",
       "      <td>[poly, rbf, poly, rbf, poly, rbf]</td>\n",
       "    </tr>\n",
       "  </tbody>\n",
       "</table>\n",
       "</div>"
      ],
      "text/plain": [
       "                                                                       rf_pipe  \\\n",
       "mean_fit_time                [6.867249536514282, 27.346450996398925, 53.870...   \n",
       "std_fit_time                 [0.0343925051308058, 0.2131486699008946, 0.269...   \n",
       "mean_score_time              [0.1961371898651123, 0.37720041275024413, 0.60...   \n",
       "std_score_time               [0.0037508627577065847, 0.005665001453850483, ...   \n",
       "param_rf__max_features       [auto, auto, auto, auto, auto, auto, auto, aut...   \n",
       "param_rf__min_samples_split  [2, 2, 2, 6, 6, 6, 12, 12, 12, 2, 2, 2, 6, 6, ...   \n",
       "param_rf__n_estimators       [100, 400, 800, 100, 400, 800, 100, 400, 800, ...   \n",
       "params                       [{'rf__max_features': 'auto', 'rf__min_samples...   \n",
       "split0_test_score            [0.9180351124987609, 0.9236619090098126, 0.924...   \n",
       "split1_test_score            [0.9192908117752007, 0.9267475716126474, 0.928...   \n",
       "split2_test_score            [0.9064704526814232, 0.9124687479093002, 0.914...   \n",
       "split3_test_score            [0.9112830888092117, 0.9186231487240226, 0.920...   \n",
       "split4_test_score            [0.8998790675175352, 0.9085824852555395, 0.910...   \n",
       "mean_test_score              [0.9109917066564263, 0.9180167725022645, 0.919...   \n",
       "std_test_score               [0.007245717374131524, 0.006756455641161025, 0...   \n",
       "rank_test_score              [35, 23, 19, 31, 24, 20, 33, 25, 22, 36, 9, 4,...   \n",
       "param_log_reg__max_iter                                                    NaN   \n",
       "param_log_reg__penalty                                                     NaN   \n",
       "param_svc__degree                                                          NaN   \n",
       "param_svc__kernel                                                          NaN   \n",
       "\n",
       "                                                                  log_reg_pipe  \\\n",
       "mean_fit_time                [0.6951305389404296, 0.8488523006439209, 0.812...   \n",
       "std_fit_time                 [0.01656421687016967, 0.08516371535558383, 0.0...   \n",
       "mean_score_time              [0.14488043785095214, 0.15645689964294435, 0.1...   \n",
       "std_score_time               [0.001758113711773036, 0.015989767698749824, 0...   \n",
       "param_rf__max_features                                                     NaN   \n",
       "param_rf__min_samples_split                                                NaN   \n",
       "param_rf__n_estimators                                                     NaN   \n",
       "params                       [{'log_reg__max_iter': 100, 'log_reg__penalty'...   \n",
       "split0_test_score            [0.9397524531668152, 0.8940430171473881, 0.939...   \n",
       "split1_test_score            [0.9450874715036178, 0.8977797601348002, 0.945...   \n",
       "split2_test_score            [0.9375267919310756, 0.8944577560936929, 0.937...   \n",
       "split3_test_score            [0.9392129800556529, 0.8867528303429616, 0.939...   \n",
       "split4_test_score            [0.9245703796039617, 0.8817218304836678, 0.924...   \n",
       "mean_test_score              [0.9372300152522246, 0.8909510388405021, 0.937...   \n",
       "std_test_score               [0.006817461585238842, 0.005853068797510609, 0...   \n",
       "rank_test_score                                                   [1, 3, 1, 4]   \n",
       "param_log_reg__max_iter                                   [100, 100, 500, 500]   \n",
       "param_log_reg__penalty                                    [l2, none, l2, none]   \n",
       "param_svc__degree                                                          NaN   \n",
       "param_svc__kernel                                                          NaN   \n",
       "\n",
       "                                                                      svc_pipe  \n",
       "mean_fit_time                [26.321758604049684, 20.40815052986145, 29.514...  \n",
       "std_fit_time                 [0.24268422978636783, 1.039839580904577, 1.005...  \n",
       "mean_score_time              [6.344286584854126, 5.5344651222229, 8.6963338...  \n",
       "std_score_time               [0.039412074730831935, 0.03441742331537648, 1....  \n",
       "param_rf__max_features                                                     NaN  \n",
       "param_rf__min_samples_split                                                NaN  \n",
       "param_rf__n_estimators                                                     NaN  \n",
       "params                       [{'svc__degree': 2, 'svc__kernel': 'poly'}, {'...  \n",
       "split0_test_score            [0.9367231638418079, 0.9400460898007731, 0.921...  \n",
       "split1_test_score            [0.945327832292596, 0.9445435622955693, 0.9368...  \n",
       "split2_test_score            [0.9345025559192514, 0.9378984718997554, 0.919...  \n",
       "split3_test_score            [0.9408843009814829, 0.9406972220639143, 0.925...  \n",
       "split4_test_score            [0.922262119605326, 0.9238733123717031, 0.9080...  \n",
       "mean_test_score              [0.9359399945280927, 0.937411731686343, 0.9221...  \n",
       "std_test_score               [0.007776136708271697, 0.007101028251024523, 0...  \n",
       "rank_test_score                                             [4, 1, 5, 1, 6, 1]  \n",
       "param_log_reg__max_iter                                                    NaN  \n",
       "param_log_reg__penalty                                                     NaN  \n",
       "param_svc__degree                                           [2, 2, 3, 3, 4, 4]  \n",
       "param_svc__kernel                            [poly, rbf, poly, rbf, poly, rbf]  "
      ]
     },
     "execution_count": 18,
     "metadata": {},
     "output_type": "execute_result"
    }
   ],
   "source": [
    "pd.DataFrame(cv_results)"
   ]
  },
  {
   "cell_type": "markdown",
   "metadata": {},
   "source": [
    "## Evaluating the models"
   ]
  },
  {
   "cell_type": "code",
   "execution_count": 19,
   "metadata": {},
   "outputs": [],
   "source": [
    "best_estimators['rf_pipe'].fit(X_train, Y_train)\n",
    "Y_pred_rf = best_estimators['rf_pipe'].predict(X_test)\n",
    "\n",
    "best_estimators['log_reg_pipe'].fit(X_train, Y_train)\n",
    "Y_pred_log_reg = best_estimators['log_reg_pipe'].predict(X_test)\n",
    "\n",
    "best_estimators['svc_pipe'].fit(X_train, Y_train)\n",
    "Y_pred_svc = best_estimators['svc_pipe'].predict(X_test)"
   ]
  },
  {
   "cell_type": "code",
   "execution_count": 20,
   "metadata": {},
   "outputs": [
    {
     "name": "stdout",
     "output_type": "stream",
     "text": [
      "classification report for random forest\n",
      "              precision    recall  f1-score   support\n",
      "\n",
      "         neg       0.87      0.82      0.84      1132\n",
      "         pos       0.83      0.87      0.85      1114\n",
      "\n",
      "    accuracy                           0.85      2246\n",
      "   macro avg       0.85      0.85      0.85      2246\n",
      "weighted avg       0.85      0.85      0.85      2246\n",
      "\n"
     ]
    }
   ],
   "source": [
    "print('classification report for random forest')\n",
    "print(classification_report(Y_test, Y_pred_rf, target_names=target_names))"
   ]
  },
  {
   "cell_type": "code",
   "execution_count": 21,
   "metadata": {},
   "outputs": [
    {
     "name": "stdout",
     "output_type": "stream",
     "text": [
      "classification report for logistic regression\n",
      "              precision    recall  f1-score   support\n",
      "\n",
      "         neg       0.89      0.83      0.86      1132\n",
      "         pos       0.84      0.89      0.86      1114\n",
      "\n",
      "    accuracy                           0.86      2246\n",
      "   macro avg       0.86      0.86      0.86      2246\n",
      "weighted avg       0.86      0.86      0.86      2246\n",
      "\n"
     ]
    }
   ],
   "source": [
    "print('classification report for logistic regression')\n",
    "print(classification_report(Y_test, Y_pred_log_reg, target_names=target_names))"
   ]
  },
  {
   "cell_type": "code",
   "execution_count": 22,
   "metadata": {},
   "outputs": [
    {
     "name": "stdout",
     "output_type": "stream",
     "text": [
      "classification report for SVC\n",
      "              precision    recall  f1-score   support\n",
      "\n",
      "         neg       0.88      0.82      0.85      1132\n",
      "         pos       0.83      0.89      0.86      1114\n",
      "\n",
      "    accuracy                           0.86      2246\n",
      "   macro avg       0.86      0.86      0.86      2246\n",
      "weighted avg       0.86      0.86      0.86      2246\n",
      "\n"
     ]
    }
   ],
   "source": [
    "print('classification report for SVC')\n",
    "print(classification_report(Y_test, Y_pred_svc, target_names=target_names))"
   ]
  },
  {
   "cell_type": "code",
   "execution_count": 23,
   "metadata": {},
   "outputs": [
    {
     "data": {
      "text/plain": [
       "<AxesSubplot:title={'center':'Random Forest'}>"
      ]
     },
     "execution_count": 23,
     "metadata": {},
     "output_type": "execute_result"
    },
    {
     "data": {
      "image/png": "[encoded data removed]",
      "text/plain": [
       "<Figure size 360x360 with 2 Axes>"
      ]
     },
     "metadata": {
      "needs_background": "light"
     },
     "output_type": "display_data"
    }
   ],
   "source": [
    "cm_rdf = pd.DataFrame(confusion_matrix(Y_test, Y_pred_rf))\n",
    "plt.figure(figsize = (5,5))\n",
    "plt.title('Random Forest')\n",
    "sn.heatmap(cm_rdf, annot=True, cmap = 'Blues', fmt='g')"
   ]
  },
  {
   "cell_type": "code",
   "execution_count": 24,
   "metadata": {},
   "outputs": [
    {
     "data": {
      "text/plain": [
       "<AxesSubplot:title={'center':'SVC'}>"
      ]
     },
     "execution_count": 24,
     "metadata": {},
     "output_type": "execute_result"
    },
    {
     "data": {
      "image/png": "[encoded data removed]",
      "text/plain": [
       "<Figure size 360x360 with 2 Axes>"
      ]
     },
     "metadata": {
      "needs_background": "light"
     },
     "output_type": "display_data"
    }
   ],
   "source": [
    "cm_svc = pd.DataFrame(confusion_matrix(Y_test, Y_pred_rf))\n",
    "plt.figure(figsize = (5,5))\n",
    "plt.title('SVC')\n",
    "sn.heatmap(cm_rdf, annot=True, cmap = 'Blues', fmt='g')"
   ]
  },
  {
   "cell_type": "code",
   "execution_count": 25,
   "metadata": {},
   "outputs": [
    {
     "data": {
      "text/plain": [
       "<AxesSubplot:title={'center':'Logistic Regression'}>"
      ]
     },
     "execution_count": 25,
     "metadata": {},
     "output_type": "execute_result"
    },
    {
     "data": {
      "image/png": "[encoded data removed]",
      "text/plain": [
       "<Figure size 360x360 with 2 Axes>"
      ]
     },
     "metadata": {
      "needs_background": "light"
     },
     "output_type": "display_data"
    }
   ],
   "source": [
    "cm_log_reg = pd.DataFrame(confusion_matrix(Y_test, Y_pred_rf))\n",
    "plt.figure(figsize = (5,5))\n",
    "plt.title('Logistic Regression')\n",
    "sn.heatmap(cm_rdf, annot=True, cmap = 'Blues', fmt='g')"
   ]
  },
  {
   "cell_type": "markdown",
   "metadata": {},
   "source": [
    "## Visualising ROC/AUC for each model"
   ]
  },
  {
   "cell_type": "code",
   "execution_count": 26,
   "metadata": {},
   "outputs": [
    {
     "name": "stdout",
     "output_type": "stream",
     "text": [
      "roc_auc_score random forest : 0.8470502312362416\n",
      "roc_auc_score logistic regression : 0.8608926860833213\n",
      "roc_auc_score SVC : 0.8564614511105048\n"
     ]
    }
   ],
   "source": [
    "print('roc_auc_score random forest :', roc_auc_score(Y_test, Y_pred_rf))\n",
    "print('roc_auc_score logistic regression :', roc_auc_score(Y_test, Y_pred_log_reg))\n",
    "print('roc_auc_score SVC :', roc_auc_score(Y_test, Y_pred_svc))"
   ]
  },
  {
   "cell_type": "code",
   "execution_count": 29,
   "metadata": {
    "scrolled": true
   },
   "outputs": [
    {
     "data": {
      "image/png": "[encoded data removed]",
      "text/plain": [
       "<Figure size 432x288 with 1 Axes>"
      ]
     },
     "metadata": {
      "needs_background": "light"
     },
     "output_type": "display_data"
    }
   ],
   "source": [
    "fpr, tpr, threshold = roc_curve(Y_test, best_estimators['rf_pipe'].predict_proba(X_test)[:,1])\n",
    "auc(fpr,tpr)\n",
    "\n",
    "plt.plot(fpr,tpr,label='roc curve, auc:'+str(auc(fpr,tpr)))\n",
    "plt.plot([0,1],[0,1],color='navy',linestyle='--')\n",
    "plt.ylabel('tpr')\n",
    "plt.xlabel('fpr')\n",
    "plt.legend(loc=4)\n",
    "plt.title('RandomForest')\n",
    "plt.show()"
   ]
  },
  {
   "cell_type": "code",
   "execution_count": 41,
   "metadata": {},
   "outputs": [
    {
     "data": {
      "text/plain": [
       "Pipeline(steps=[('vectorizer', TfidfVectorizer(max_features=1500)),\n",
       "                ('svc', SVC(degree=2, probability=True))])"
      ]
     },
     "execution_count": 41,
     "metadata": {},
     "output_type": "execute_result"
    }
   ],
   "source": [
    "pipe_svc_prob_true = Pipeline([\n",
    "    ('vectorizer', TfidfVectorizer(max_features=1500)),\n",
    "    ('svc', SVC(probability=True, degree=2, kernel='rbf')),\n",
    "    ])\n",
    "pipe_svc_prob_true.fit(X_train, Y_train)"
   ]
  },
  {
   "cell_type": "code",
   "execution_count": 42,
   "metadata": {},
   "outputs": [
    {
     "data": {
      "image/png": "[encoded data removed]",
      "text/plain": [
       "<Figure size 432x288 with 1 Axes>"
      ]
     },
     "metadata": {
      "needs_background": "light"
     },
     "output_type": "display_data"
    }
   ],
   "source": [
    "fpr, tpr, threshold = roc_curve(Y_test, pipe_svc_prob_true.predict_proba(X_test)[:,1])\n",
    "auc(fpr,tpr)\n",
    "\n",
    "plt.plot(fpr,tpr,label='roc curve, auc:'+str(auc(fpr,tpr)))\n",
    "plt.plot([0,1],[0,1],color='navy',linestyle='--')\n",
    "plt.ylabel('tpr')\n",
    "plt.xlabel('fpr')\n",
    "plt.legend(loc=4)\n",
    "plt.title('SVC')\n",
    "plt.show()"
   ]
  },
  {
   "cell_type": "code",
   "execution_count": 40,
   "metadata": {},
   "outputs": [
    {
     "data": {
      "image/png": "[encoded data removed]",
      "text/plain": [
       "<Figure size 432x288 with 1 Axes>"
      ]
     },
     "metadata": {
      "needs_background": "light"
     },
     "output_type": "display_data"
    }
   ],
   "source": [
    "fpr, tpr, threshold = roc_curve(Y_test, best_estimators['log_reg_pipe'].predict_proba(X_test)[:,1])\n",
    "auc(fpr,tpr)\n",
    "\n",
    "plt.plot(fpr,tpr,label='roc curve, auc:'+str(auc(fpr,tpr)))\n",
    "plt.plot([0,1],[0,1],color='navy',linestyle='--')\n",
    "plt.ylabel('tpr')\n",
    "plt.xlabel('fpr')\n",
    "plt.legend(loc=4)\n",
    "plt.title('Logistic Regression')\n",
    "plt.show()"
   ]
  },
  {
   "cell_type": "markdown",
   "metadata": {},
   "source": [
    "To conclude, we will choose the logistic regression model. Since all three models have similar scores, in particular the support vector classifier and the logistic regression model. We want to choose the model that is the most convenient in terms of computational complexity and implementation."
   ]
  }
 ],
 "metadata": {
  "colab": {
   "collapsed_sections": [
    "bmZQabA54AIB",
    "ABWo9FPn4AIG"
   ],
   "name": "imdb_review_learning.ipynb",
   "provenance": []
  },
  "kernelspec": {
   "display_name": "Python 3",
   "language": "python",
   "name": "python3"
  },
  "language_info": {
   "codemirror_mode": {
    "name": "ipython",
    "version": 3
   },
   "file_extension": ".py",
   "mimetype": "text/x-python",
   "name": "python",
   "nbconvert_exporter": "python",
   "pygments_lexer": "ipython3",
   "version": "3.7.4"
  }
 },
 "nbformat": 4,
 "nbformat_minor": 1
}
{
  "nbformat": 4,
  "nbformat_minor": 0,
  "metadata": {
    "colab": {
      "name": "imdb_review_semisupervised_learning.ipynb",
      "provenance": [],
      "collapsed_sections": [],
      "toc_visible": true
    },
    "kernelspec": {
      "display_name": "Python 3",
      "language": "python",
      "name": "python3"
    },
    "language_info": {
      "codemirror_mode": {
        "name": "ipython",
        "version": 3
      },
      "file_extension": ".py",
      "mimetype": "text/x-python",
      "name": "python",
      "nbconvert_exporter": "python",
      "pygments_lexer": "ipython3",
      "version": "3.8.5-final"
    }
  },
  "cells": [
    {
      "cell_type": "code",
      "metadata": {
        "id": "Y5wqOZPlmCvN"
      },
      "source": [
        "import pandas as pd\n",
        "import numpy as np\n",
        "import matplotlib.pyplot as plt\n",
        "import seaborn as sn\n",
        "\n",
        "from numpy import concatenate\n",
        "\n",
        "from sklearn.model_selection import train_test_split\n",
        "from sklearn.feature_extraction.text import TfidfTransformer, TfidfVectorizer\n",
        "from sklearn.decomposition import TruncatedSVD\n",
        "from sklearn.pipeline import Pipeline\n",
        "from sklearn.model_selection import GridSearchCV\n",
        "from sklearn.linear_model import LogisticRegression\n",
        "from sklearn.semi_supervised import LabelPropagation, LabelSpreading\n",
        "from sklearn.metrics import accuracy_score, roc_auc_score, auc, confusion_matrix, roc_curve, classification_report"
      ],
      "execution_count": 1,
      "outputs": []
    },
    {
      "cell_type": "markdown",
      "metadata": {
        "id": "PY1gR0UKxm-R"
      },
      "source": [
        "# (Bonus) Semi-supervised "
      ]
    },
    {
      "cell_type": "markdown",
      "metadata": {
        "id": "icsXCtx7xm-R"
      },
      "source": [
        "Given that half the dataset is unlabled, we wanted to explore semi-supervised algorithms and label propagation. This is not part of the assignement, but an attempt to go a little bit further."
      ]
    },
    {
      "cell_type": "code",
      "metadata": {
        "id": "dQHP-DLKxm-R"
      },
      "source": [
        "dataset = pd.read_csv('imdb_sup_clean.csv')"
      ],
      "execution_count": 2,
      "outputs": []
    },
    {
      "cell_type": "code",
      "metadata": {
        "id": "Dr3fjVu0xm-R"
      },
      "source": [
        "X = dataset['join_clean_review']\n",
        "Y = dataset['label']\n",
        "X_train, X_test, Y_train, Y_test = train_test_split(X, Y, test_size=0.5, random_state=1998)"
      ],
      "execution_count": 3,
      "outputs": []
    },
    {
      "cell_type": "code",
      "metadata": {
        "id": "NGHI_dZmxm-R"
      },
      "source": [
        "X_train_lab, X_test_unlab, Y_train_lab, Y_test_unlab = train_test_split(X_train, Y_train, test_size=0.50, random_state=1998)"
      ],
      "execution_count": 4,
      "outputs": []
    },
    {
      "cell_type": "code",
      "metadata": {
        "colab": {
          "base_uri": "https://localhost:8080/"
        },
        "id": "9dL2EVTx4HPx",
        "outputId": "f92ca1f7-2f7c-45ce-ad54-50a1410813b6"
      },
      "source": [
        "X_train_lab"
      ],
      "execution_count": 5,
      "outputs": [
        {
          "output_type": "execute_result",
          "data": {
            "text/plain": [
              "59       reliev later review turn sour read posit feedb...\n",
              "9179     love movi respect midget dress like tini marti...\n",
              "2151     poor jane austen dog product wonder tongu chee...\n",
              "6309     ok hollywood liber obvious lie im conserv poli...\n",
              "9016     talk bad movi nonsens matter fact best movi ev...\n",
              "                               ...                        \n",
              "1633     wast minut life turkey gave main charact compl...\n",
              "1336     bloodi aw way put fact bad reason wast word wa...\n",
              "8002     film notabl three reason first appar capit suc...\n",
              "8811     love give kolchak higher rate show quick went ...\n",
              "10921    movi far cutest seen long time wonder anim ado...\n",
              "Name: join_clean_review, Length: 2807, dtype: object"
            ]
          },
          "metadata": {
            "tags": []
          },
          "execution_count": 5
        }
      ]
    },
    {
      "cell_type": "code",
      "metadata": {
        "colab": {
          "base_uri": "https://localhost:8080/"
        },
        "id": "xQap_5JW4CBO",
        "outputId": "baca154d-2138-4779-e21e-85b3ac0a6130"
      },
      "source": [
        "X_test_unlab"
      ],
      "execution_count": 6,
      "outputs": [
        {
          "output_type": "execute_result",
          "data": {
            "text/plain": [
              "7071     given titl outlandish box art readi anyth perh...\n",
              "3400     five minut start feel naff look got complet un...\n",
              "2268     start plot movi love two high school student w...\n",
              "5694     much wors origin actual pain sit bare held six...\n",
              "10031    strong pilot two hour episod excel job set cha...\n",
              "                               ...                        \n",
              "3860     betti sizemor rene zellweg secret watch tyrann...\n",
              "1931     someth wonder reveng film everyon wake morn be...\n",
              "2034     idea great spoil big time judg make fun peopl ...\n",
              "3206     wait year see film heard grape vine obvious ex...\n",
              "2528     watch movi ask think mani notic bad part movi ...\n",
              "Name: join_clean_review, Length: 2808, dtype: object"
            ]
          },
          "metadata": {
            "tags": []
          },
          "execution_count": 6
        }
      ]
    },
    {
      "cell_type": "code",
      "metadata": {
        "id": "-4CMdS2Cxm-S"
      },
      "source": [
        "X_train_mixed = pd.Series((concatenate((X_train_lab, X_test_unlab))))"
      ],
      "execution_count": 7,
      "outputs": []
    },
    {
      "cell_type": "code",
      "metadata": {
        "colab": {
          "base_uri": "https://localhost:8080/"
        },
        "id": "pvSrajsQ5954",
        "outputId": "56d3a88c-d0e3-422d-9a4c-830fc782e9be"
      },
      "source": [
        "X_train_mixed"
      ],
      "execution_count": 8,
      "outputs": [
        {
          "output_type": "execute_result",
          "data": {
            "text/plain": [
              "0       reliev later review turn sour read posit feedb...\n",
              "1       love movi respect midget dress like tini marti...\n",
              "2       poor jane austen dog product wonder tongu chee...\n",
              "3       ok hollywood liber obvious lie im conserv poli...\n",
              "4       talk bad movi nonsens matter fact best movi ev...\n",
              "                              ...                        \n",
              "5610    betti sizemor rene zellweg secret watch tyrann...\n",
              "5611    someth wonder reveng film everyon wake morn be...\n",
              "5612    idea great spoil big time judg make fun peopl ...\n",
              "5613    wait year see film heard grape vine obvious ex...\n",
              "5614    watch movi ask think mani notic bad part movi ...\n",
              "Length: 5615, dtype: object"
            ]
          },
          "metadata": {
            "tags": []
          },
          "execution_count": 8
        }
      ]
    },
    {
      "cell_type": "code",
      "metadata": {
        "id": "MeB-tgJvxm-S"
      },
      "source": [
        "nolabel = [-1 for _ in range(len(Y_test_unlab))]"
      ],
      "execution_count": 9,
      "outputs": []
    },
    {
      "cell_type": "code",
      "metadata": {
        "id": "c2FYcmS45UHl"
      },
      "source": [
        "Y_train_mixed = pd.Series(concatenate((Y_train_lab, nolabel)))"
      ],
      "execution_count": 10,
      "outputs": []
    },
    {
      "cell_type": "code",
      "metadata": {
        "colab": {
          "base_uri": "https://localhost:8080/"
        },
        "id": "wd3Pboft6Edh",
        "outputId": "ed3174b6-a33c-40d2-82fe-babbaf7de42e"
      },
      "source": [
        "Y_train_mixed"
      ],
      "execution_count": 11,
      "outputs": [
        {
          "output_type": "execute_result",
          "data": {
            "text/plain": [
              "0       0\n",
              "1       1\n",
              "2       0\n",
              "3       0\n",
              "4       1\n",
              "       ..\n",
              "5610   -1\n",
              "5611   -1\n",
              "5612   -1\n",
              "5613   -1\n",
              "5614   -1\n",
              "Length: 5615, dtype: int64"
            ]
          },
          "metadata": {
            "tags": []
          },
          "execution_count": 11
        }
      ]
    },
    {
      "cell_type": "code",
      "metadata": {
        "id": "QBv4uWTzxm-T"
      },
      "source": [
        "tfidf_lp = Pipeline([('vectorizer', TfidfVectorizer(max_features=2000)), ('SVD', TruncatedSVD()),\n",
        "            ('lab_prop', LabelSpreading())])"
      ],
      "execution_count": 12,
      "outputs": []
    },
    {
      "cell_type": "code",
      "metadata": {
        "colab": {
          "base_uri": "https://localhost:8080/"
        },
        "id": "u0nT2KEMxm-U",
        "outputId": "692db3de-a271-4e59-fad9-f29d660a9e63"
      },
      "source": [
        "tfidf_lp.fit(X_train_mixed, Y_train_mixed)"
      ],
      "execution_count": 13,
      "outputs": [
        {
          "output_type": "execute_result",
          "data": {
            "text/plain": [
              "Pipeline(memory=None,\n",
              "         steps=[('vectorizer',\n",
              "                 TfidfVectorizer(analyzer='word', binary=False,\n",
              "                                 decode_error='strict',\n",
              "                                 dtype=<class 'numpy.float64'>,\n",
              "                                 encoding='utf-8', input='content',\n",
              "                                 lowercase=True, max_df=1.0, max_features=2000,\n",
              "                                 min_df=1, ngram_range=(1, 1), norm='l2',\n",
              "                                 preprocessor=None, smooth_idf=True,\n",
              "                                 stop_words=None, strip_accents=None,\n",
              "                                 sublinear_tf=False,\n",
              "                                 token_pattern='(?u)\\\\b\\\\w\\\\w+\\\\b',\n",
              "                                 tokenizer=None, use_idf=True,\n",
              "                                 vocabulary=None)),\n",
              "                ('SVD',\n",
              "                 TruncatedSVD(algorithm='randomized', n_components=2, n_iter=5,\n",
              "                              random_state=None, tol=0.0)),\n",
              "                ('lab_prop',\n",
              "                 LabelSpreading(alpha=0.2, gamma=20, kernel='rbf', max_iter=30,\n",
              "                                n_jobs=None, n_neighbors=7, tol=0.001))],\n",
              "         verbose=False)"
            ]
          },
          "metadata": {
            "tags": []
          },
          "execution_count": 13
        }
      ]
    },
    {
      "cell_type": "code",
      "metadata": {
        "id": "2vcPHCiV8dGP"
      },
      "source": [
        "tran_labels = tfidf_lp['lab_prop'].transduction_ #label assigned to each item "
      ],
      "execution_count": 14,
      "outputs": []
    },
    {
      "cell_type": "code",
      "metadata": {
        "id": "6kR_X7sMxm-V"
      },
      "source": [
        "tfidf_log_reg = Pipeline([('vectorizer', TfidfVectorizer(max_features=2000)),\n",
        "            ('log_reg', LogisticRegression())])\n",
        "tfidf_log_reg.fit(X_train_mixed, tran_labels)\n",
        "\n",
        "Y_pred_log_reg = tfidf_log_reg.predict(X_test)"
      ],
      "execution_count": 15,
      "outputs": []
    },
    {
      "cell_type": "code",
      "metadata": {
        "colab": {
          "base_uri": "https://localhost:8080/"
        },
        "id": "ZhvgtvYwxm-V",
        "outputId": "9c7c19b3-d5bf-45e0-f555-f420eb792067"
      },
      "source": [
        "accuracy_score(Y_test, Y_pred_log_reg)"
      ],
      "execution_count": 16,
      "outputs": [
        {
          "output_type": "execute_result",
          "data": {
            "text/plain": [
              "0.7260908281389136"
            ]
          },
          "metadata": {
            "tags": []
          },
          "execution_count": 16
        }
      ]
    },
    {
      "cell_type": "code",
      "metadata": {
        "id": "CIP_5IamFk_z"
      },
      "source": [
        "target_names = ['neg','pos']"
      ],
      "execution_count": 17,
      "outputs": []
    },
    {
      "cell_type": "code",
      "metadata": {
        "colab": {
          "base_uri": "https://localhost:8080/"
        },
        "id": "2Pp4gq81xm-V",
        "outputId": "8b3e2ac1-d182-4107-c106-7702ddc2c4f3"
      },
      "source": [
        "print(classification_report(Y_test, Y_pred_log_reg, target_names=target_names))"
      ],
      "execution_count": 18,
      "outputs": [
        {
          "output_type": "stream",
          "text": [
            "              precision    recall  f1-score   support\n",
            "\n",
            "         neg       0.76      0.65      0.70      2772\n",
            "         pos       0.70      0.80      0.75      2843\n",
            "\n",
            "    accuracy                           0.73      5615\n",
            "   macro avg       0.73      0.73      0.72      5615\n",
            "weighted avg       0.73      0.73      0.72      5615\n",
            "\n"
          ],
          "name": "stdout"
        }
      ]
    },
    {
      "cell_type": "code",
      "metadata": {
        "colab": {
          "base_uri": "https://localhost:8080/",
          "height": 295
        },
        "id": "uzMZHUohDlwf",
        "outputId": "d70ce208-bb50-4ce5-91cb-115fb15e420f"
      },
      "source": [
        "fpr, tpr, threshold = roc_curve(Y_test, tfidf_log_reg.predict_proba(X_test)[:,1])\n",
        "auc(fpr,tpr)\n",
        "\n",
        "plt.plot(fpr,tpr,label='roc curve, auc:'+str(auc(fpr,tpr)))\n",
        "plt.plot([0,1],[0,1],color='navy',linestyle='--')\n",
        "plt.ylabel('tpr')\n",
        "plt.xlabel('fpr')\n",
        "plt.legend(loc=4)\n",
        "plt.title('Label Spreading and Logistic Regression')\n",
        "plt.show()"
      ],
      "execution_count": 19,
      "outputs": [
        {
          "output_type": "display_data",
          "data": {
            "image/png": "[encoded data removed]",
            "text/plain": [
              "<Figure size 432x288 with 1 Axes>"
            ]
          },
          "metadata": {
            "tags": [],
            "needs_background": "light"
          }
        }
      ]
    }
  ]
}